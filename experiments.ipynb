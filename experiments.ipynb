{
 "cells": [
  {
   "cell_type": "code",
   "execution_count": 2,
   "id": "initial_id",
   "metadata": {
    "collapsed": true,
    "ExecuteTime": {
     "end_time": "2025-01-26T13:00:43.510404Z",
     "start_time": "2025-01-26T13:00:12.816143Z"
    }
   },
   "outputs": [
    {
     "name": "stderr",
     "output_type": "stream",
     "text": [
      "2025-01-26 14:00:31.289654: I tensorflow/core/platform/cpu_feature_guard.cc:182] This TensorFlow binary is optimized to use available CPU instructions in performance-critical operations.\n",
      "To enable the following instructions: AVX2 FMA, in other operations, rebuild TensorFlow with the appropriate compiler flags.\n"
     ]
    },
    {
     "name": "stdout",
     "output_type": "stream",
     "text": [
      "number of parameters: 124.44M\n"
     ]
    }
   ],
   "source": [
    "import sys\n",
    "sys.path.append('../')\n",
    "from generate import generate"
   ]
  },
  {
   "cell_type": "markdown",
   "source": [
    "Clean: The Eiffel Tower is located in Paris, the capital of France\n",
    "Corrupted: The Eiffel Tower is located in London, the capital of England\n",
    "\n",
    "Clean: If it rains, the ground will be wet. It rained. Therefore, the ground is wet\n",
    "Corrupted: If it rains, the ground will be dry. It rained. Therefore, the ground is dry\n",
    "\n",
    "Clean: It is not true that all birds can fly. Penguins are birds, and they cannot fly\n",
    "Corrupted: It is not true that all birds can walk. Penguins are birds, and they cannot walk"
   ],
   "metadata": {
    "collapsed": false
   },
   "id": "f9ec8f292b41bfe6"
  },
  {
   "cell_type": "code",
   "execution_count": 3,
   "outputs": [
    {
     "name": "stdout",
     "output_type": "stream",
     "text": [
      "CLEAN - MOST LIKELY TOKENS\n",
      "1. Token Index: 4881, Token:  France, Probability: 0.5258650183677673\n",
      "2. Token Index: 262, Token:  the, Probability: 0.23885032534599304\n",
      "3. Token Index: 257, Token:  a, Probability: 0.027750900015234947\n",
      "4. Token Index: 4141, Token:  French, Probability: 0.026596108451485634\n",
      "5. Token Index: 15664, Token:  Belgium, Probability: 0.016655614599585533\n",
      "6. Token Index: 2031, Token:  Europe, Probability: 0.013445284217596054\n",
      "7. Token Index: 543, Token:  which, Probability: 0.011019445024430752\n",
      "8. Token Index: 14679, Token:  Switzerland, Probability: 0.009352367371320724\n",
      "9. Token Index: 8372, Token:  southern, Probability: 0.006810412276536226\n",
      "10. Token Index: 6342, Token:  Paris, Probability: 0.005119515582919121\n",
      "11. Token Index: 4486, Token:  Germany, Probability: 0.004903634078800678\n",
      "12. Token Index: 8830, Token:  western, Probability: 0.004047306254506111\n",
      "13. Token Index: 7840, Token:  northern, Probability: 0.0034254048950970173\n",
      "14. Token Index: 530, Token:  one, Probability: 0.0029728435911238194\n",
      "15. Token Index: 281, Token:  an, Probability: 0.002824117662385106\n",
      "16. Token Index: 663, Token:  its, Probability: 0.0027324920520186424\n",
      "17. Token Index: 2258, Token:  North, Probability: 0.00241255690343678\n",
      "18. Token Index: 8602, Token:  Spain, Probability: 0.002346157329156995\n",
      "19. Token Index: 10183, Token:  eastern, Probability: 0.002148016355931759\n",
      "20. Token Index: 31864, Token:  Luxembourg, Probability: 0.002122715814039111\n",
      "CORRUPTED - MOST LIKELY TOKENS\n",
      "1. Token Index: 262, Token:  the, Probability: 0.5142450332641602\n",
      "2. Token Index: 4492, Token:  England, Probability: 0.08302589505910873\n",
      "3. Token Index: 257, Token:  a, Probability: 0.041407037526369095\n",
      "4. Token Index: 5491, Token:  Britain, Probability: 0.030200576409697533\n",
      "5. Token Index: 543, Token:  which, Probability: 0.02611798234283924\n",
      "6. Token Index: 3878, Token:  Great, Probability: 0.025187844410538673\n",
      "7. Token Index: 4881, Token:  France, Probability: 0.023782871663570404\n",
      "8. Token Index: 3517, Token:  British, Probability: 0.020412061363458633\n",
      "9. Token Index: 2031, Token:  Europe, Probability: 0.018375104293227196\n",
      "10. Token Index: 3576, Token:  London, Probability: 0.014666125178337097\n",
      "11. Token Index: 4486, Token:  Germany, Probability: 0.008317516185343266\n",
      "12. Token Index: 14679, Token:  Switzerland, Probability: 0.007601461838930845\n",
      "13. Token Index: 15664, Token:  Belgium, Probability: 0.005751427263021469\n",
      "14. Token Index: 530, Token:  one, Probability: 0.00562634551897645\n",
      "15. Token Index: 281, Token:  an, Probability: 0.005471327807754278\n",
      "16. Token Index: 4318, Token:  central, Probability: 0.005352500826120377\n",
      "17. Token Index: 663, Token:  its, Probability: 0.0050179194658994675\n",
      "18. Token Index: 968, Token:  New, Probability: 0.00436263857409358\n",
      "19. Token Index: 383, Token:  The, Probability: 0.004345083609223366\n",
      "20. Token Index: 3482, Token:  UK, Probability: 0.003907870501279831\n"
     ]
    }
   ],
   "source": [
    "generate('The Eiffel Tower is located in Paris, the capital of', 'France', 'The Eiffel Tower is located in London, the capital of', 'England', 1, output_name='heatmap_eiffel')"
   ],
   "metadata": {
    "collapsed": false,
    "ExecuteTime": {
     "end_time": "2025-01-26T13:00:55.346415Z",
     "start_time": "2025-01-26T13:00:43.645575Z"
    }
   },
   "id": "d5670b2686cc8d1a"
  },
  {
   "cell_type": "code",
   "execution_count": 4,
   "outputs": [
    {
     "name": "stdout",
     "output_type": "stream",
     "text": [
      "CLEAN - MOST LIKELY TOKENS\n",
      "1. Token Index: 9583, Token:  wet, Probability: 0.6129766702651978\n",
      "2. Token Index: 5894, Token:  dry, Probability: 0.06623734533786774\n",
      "3. Token Index: 407, Token:  not, Probability: 0.032269932329654694\n",
      "4. Token Index: 257, Token:  a, Probability: 0.015300211496651173\n",
      "5. Token Index: 262, Token:  the, Probability: 0.008433992974460125\n",
      "6. Token Index: 1016, Token:  going, Probability: 0.006999818608164787\n",
      "7. Token Index: 13394, Token:  moist, Probability: 0.005658817011862993\n",
      "8. Token Index: 5017, Token:  covered, Probability: 0.004770949482917786\n",
      "9. Token Index: 39085, Token:  muddy, Probability: 0.004462069366127253\n",
      "10. Token Index: 845, Token:  very, Probability: 0.004370393231511116\n",
      "11. Token Index: 33657, Token:  soaked, Probability: 0.00430769519880414\n",
      "12. Token Index: 31192, Token:  fertile, Probability: 0.0042257304303348064\n",
      "13. Token Index: 1660, Token:  water, Probability: 0.004088568966835737\n",
      "14. Token Index: 32911, Token:  slippery, Probability: 0.003758958773687482\n",
      "15. Token Index: 287, Token:  in, Probability: 0.0037184550892561674\n",
      "16. Token Index: 21151, Token:  damp, Probability: 0.0036440861877053976\n",
      "17. Token Index: 588, Token:  like, Probability: 0.0030541939195245504\n",
      "18. Token Index: 3424, Token:  clean, Probability: 0.002567438641563058\n",
      "19. Token Index: 1165, Token:  too, Probability: 0.0025531596038490534\n",
      "20. Token Index: 1464, Token:  always, Probability: 0.002424060832709074\n",
      "CORRUPTED - MOST LIKELY TOKENS\n",
      "1. Token Index: 5894, Token:  dry, Probability: 0.38827967643737793\n",
      "2. Token Index: 9583, Token:  wet, Probability: 0.18178735673427582\n",
      "3. Token Index: 407, Token:  not, Probability: 0.04512220621109009\n",
      "4. Token Index: 257, Token:  a, Probability: 0.01992943324148655\n",
      "5. Token Index: 1016, Token:  going, Probability: 0.012428965419530869\n",
      "6. Token Index: 262, Token:  the, Probability: 0.009749283082783222\n",
      "7. Token Index: 13394, Token:  moist, Probability: 0.00912387203425169\n",
      "8. Token Index: 29621, Token:  drying, Probability: 0.006962981075048447\n",
      "9. Token Index: 845, Token:  very, Probability: 0.005662634503096342\n",
      "10. Token Index: 287, Token:  in, Probability: 0.005427410826086998\n",
      "11. Token Index: 16577, Token:  dried, Probability: 0.0051722778007388115\n",
      "12. Token Index: 5017, Token:  covered, Probability: 0.005041372496634722\n",
      "13. Token Index: 31192, Token:  fertile, Probability: 0.004507762845605612\n",
      "14. Token Index: 3424, Token:  clean, Probability: 0.004086928442120552\n",
      "15. Token Index: 991, Token:  still, Probability: 0.003863054793328047\n",
      "16. Token Index: 21151, Token:  damp, Probability: 0.0038410425186157227\n",
      "17. Token Index: 1454, Token:  dri, Probability: 0.0036509709898382425\n",
      "18. Token Index: 1165, Token:  too, Probability: 0.003618498332798481\n",
      "19. Token Index: 1464, Token:  always, Probability: 0.003436160506680608\n",
      "20. Token Index: 4692, Token:  cold, Probability: 0.003337613772600889\n"
     ]
    }
   ],
   "source": [
    "generate('If it rains, the ground will be wet. It rained. Therefore, the ground is', 'wet', 'If it rains, the ground will be dry. It rained. Therefore, the ground is', 'dry', 1, output_name='heatmap_rain')"
   ],
   "metadata": {
    "collapsed": false,
    "ExecuteTime": {
     "end_time": "2025-01-26T13:01:11.613830Z",
     "start_time": "2025-01-26T13:00:55.341476Z"
    }
   },
   "id": "18a6c2cbe858ac1"
  },
  {
   "cell_type": "code",
   "execution_count": 5,
   "outputs": [
    {
     "name": "stdout",
     "output_type": "stream",
     "text": [
      "CLEAN - MOST LIKELY TOKENS\n",
      "1. Token Index: 6129, Token:  fly, Probability: 0.7146939039230347\n",
      "2. Token Index: 307, Token:  be, Probability: 0.03985995054244995\n",
      "3. Token Index: 466, Token:  do, Probability: 0.008841726928949356\n",
      "4. Token Index: 1057, Token:  run, Probability: 0.006596631836146116\n",
      "5. Token Index: 1445, Token:  move, Probability: 0.006468844134360552\n",
      "6. Token Index: 9422, Token:  swim, Probability: 0.0064244805835187435\n",
      "7. Token Index: 2513, Token:  walk, Probability: 0.005496700759977102\n",
      "8. Token Index: 477, Token:  all, Probability: 0.005493808072060347\n",
      "9. Token Index: 2107, Token:  live, Probability: 0.0052766562439501286\n",
      "10. Token Index: 423, Token:  have, Probability: 0.0050591640174388885\n",
      "11. Token Index: 787, Token:  make, Probability: 0.004813806619495153\n",
      "12. Token Index: 766, Token:  see, Probability: 0.004119226709008217\n",
      "13. Token Index: 3283, Token:  carry, Probability: 0.0038133254274725914\n",
      "14. Token Index: 467, Token:  go, Probability: 0.0035989435855299234\n",
      "15. Token Index: 4391, Token:  jump, Probability: 0.0028473245911300182\n",
      "16. Token Index: 772, Token:  even, Probability: 0.002800295129418373\n",
      "17. Token Index: 3067, Token:  travel, Probability: 0.0027383288834244013\n",
      "18. Token Index: 651, Token:  get, Probability: 0.0027203168720006943\n",
      "19. Token Index: 2193, Token:  learn, Probability: 0.0025146345142275095\n",
      "20. Token Index: 48701, Token:  soar, Probability: 0.0024505991023033857\n",
      "CORRUPTED - MOST LIKELY TOKENS\n",
      "1. Token Index: 2513, Token:  walk, Probability: 0.3220874071121216\n",
      "2. Token Index: 6129, Token:  fly, Probability: 0.13606755435466766\n",
      "3. Token Index: 307, Token:  be, Probability: 0.047974202781915665\n",
      "4. Token Index: 1057, Token:  run, Probability: 0.04752538353204727\n",
      "5. Token Index: 1445, Token:  move, Probability: 0.02822152152657509\n",
      "6. Token Index: 9422, Token:  swim, Probability: 0.020661644637584686\n",
      "7. Token Index: 466, Token:  do, Probability: 0.014037549495697021\n",
      "8. Token Index: 1302, Token:  stand, Probability: 0.013088527135550976\n",
      "9. Token Index: 4391, Token:  jump, Probability: 0.012566100805997849\n",
      "10. Token Index: 477, Token:  all, Probability: 0.009860987775027752\n",
      "11. Token Index: 766, Token:  see, Probability: 0.009276696480810642\n",
      "12. Token Index: 467, Token:  go, Probability: 0.007685196120291948\n",
      "13. Token Index: 423, Token:  have, Probability: 0.007436085492372513\n",
      "14. Token Index: 12080, Token:  climb, Probability: 0.007251978851854801\n",
      "15. Token Index: 2107, Token:  live, Probability: 0.006300772540271282\n",
      "16. Token Index: 2121, Token:  fall, Probability: 0.006182063836604357\n",
      "17. Token Index: 3283, Token:  carry, Probability: 0.005379723384976387\n",
      "18. Token Index: 27318, Token:  crawl, Probability: 0.005102910567075014\n",
      "19. Token Index: 4483, Token:  eat, Probability: 0.004927643109112978\n",
      "20. Token Index: 3272, Token:  cross, Probability: 0.004830564372241497\n"
     ]
    }
   ],
   "source": [
    "generate('It is not true that all birds can fly. Penguins are birds, and they cannot', 'fly', 'It is not true that all birds can walk. Penguins are birds, and they cannot', 'walk', 1, output_name='heatmap_penguins')\n"
   ],
   "metadata": {
    "collapsed": false,
    "ExecuteTime": {
     "end_time": "2025-01-26T13:01:25.457494Z",
     "start_time": "2025-01-26T13:01:11.610341Z"
    }
   },
   "id": "38c79844515740bf"
  }
 ],
 "metadata": {
  "kernelspec": {
   "display_name": "Python 3",
   "language": "python",
   "name": "python3"
  },
  "language_info": {
   "codemirror_mode": {
    "name": "ipython",
    "version": 2
   },
   "file_extension": ".py",
   "mimetype": "text/x-python",
   "name": "python",
   "nbconvert_exporter": "python",
   "pygments_lexer": "ipython2",
   "version": "2.7.6"
  }
 },
 "nbformat": 4,
 "nbformat_minor": 5
}
